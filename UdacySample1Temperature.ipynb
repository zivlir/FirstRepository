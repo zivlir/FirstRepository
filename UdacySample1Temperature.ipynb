{
  "nbformat": 4,
  "nbformat_minor": 0,
  "metadata": {
    "colab": {
      "name": "UdacySample1Temperature.ipynb",
      "provenance": [],
      "include_colab_link": true
    },
    "kernelspec": {
      "name": "python3",
      "display_name": "Python 3"
    }
  },
  "cells": [
    {
      "cell_type": "markdown",
      "metadata": {
        "id": "view-in-github",
        "colab_type": "text"
      },
      "source": [
        "<a href=\"https://colab.research.google.com/github/zivlir/FirstRepository/blob/master/UdacySample1Temperature.ipynb\" target=\"_parent\"><img src=\"https://colab.research.google.com/assets/colab-badge.svg\" alt=\"Open In Colab\"/></a>"
      ]
    },
    {
      "cell_type": "markdown",
      "metadata": {
        "id": "qemCJVTSIWWP",
        "colab_type": "text"
      },
      "source": [
        "Udacy 2. video course"
      ]
    },
    {
      "cell_type": "code",
      "metadata": {
        "id": "FFhNaHs-HodC",
        "colab_type": "code",
        "colab": {}
      },
      "source": [
        "import tensorflow as tf\n",
        "tf.logging.set_verbosity(tf.logging.ERROR)\n",
        "\n",
        "import numpy as np"
      ],
      "execution_count": 0,
      "outputs": []
    },
    {
      "cell_type": "code",
      "metadata": {
        "id": "N2aGSZKQIVOs",
        "colab_type": "code",
        "outputId": "eaca6aa0-7a83-44e6-aa3c-ad98e04f6fea",
        "colab": {
          "base_uri": "https://localhost:8080/",
          "height": 134
        }
      },
      "source": [
        "celsius_q = np.array([-40,-10,0,8,15,22,38], dtype=float)\n",
        "fahrenheit_a = np.array([-40,14,32,46,59,72,100], dtype=float)\n",
        "\n",
        "for i,c in enumerate(celsius_q):\n",
        "  print(f\"{c} degrees C = {fahrenheit_a[i]} degrees F\")"
      ],
      "execution_count": 0,
      "outputs": [
        {
          "output_type": "stream",
          "text": [
            "-40.0 degrees C = -40.0 degrees F\n",
            "-10.0 degrees C = 14.0 degrees F\n",
            "0.0 degrees C = 32.0 degrees F\n",
            "8.0 degrees C = 46.0 degrees F\n",
            "15.0 degrees C = 59.0 degrees F\n",
            "22.0 degrees C = 72.0 degrees F\n",
            "38.0 degrees C = 100.0 degrees F\n"
          ],
          "name": "stdout"
        }
      ]
    },
    {
      "cell_type": "code",
      "metadata": {
        "id": "6aswXKzyIVMo",
        "colab_type": "code",
        "colab": {}
      },
      "source": [
        "l0 = tf.keras.layers.Dense(units=1, input_shape=[1])"
      ],
      "execution_count": 0,
      "outputs": []
    },
    {
      "cell_type": "markdown",
      "metadata": {
        "id": "MiJHpQPfLhTl",
        "colab_type": "text"
      },
      "source": [
        "HERE we make model step by step but often some lines are concatinated like\n",
        "\n",
        "model = tf.keras.Sequential([\n",
        "  tf.keras.layers.Dense(units=1, input_shape=[1])\n",
        "])\n"
      ]
    },
    {
      "cell_type": "code",
      "metadata": {
        "id": "Xe1etAoyIVKM",
        "colab_type": "code",
        "colab": {}
      },
      "source": [
        "model = tf.keras.Sequential([l0])"
      ],
      "execution_count": 0,
      "outputs": []
    },
    {
      "cell_type": "code",
      "metadata": {
        "id": "3HM83vSnIVJB",
        "colab_type": "code",
        "colab": {}
      },
      "source": [
        "model.compile(loss='mean_squared_error', #what is loss functon?\n",
        "              optimizer=tf.keras.optimizers.Adam(0.1)) #Gradient descent is an optimization algorithm used to minimize some function by iteratively moving in the direction of steepest descent as defined by the negative of the gradient. In machine learning, we use gradient descent to update the parameters of our model."
      ],
      "execution_count": 0,
      "outputs": []
    },
    {
      "cell_type": "markdown",
      "metadata": {
        "id": "XD01HWqWLyBC",
        "colab_type": "text"
      },
      "source": [
        "HERE we start train our model"
      ]
    },
    {
      "cell_type": "code",
      "metadata": {
        "id": "kam0e0sgIVG0",
        "colab_type": "code",
        "outputId": "8a022880-5fe5-49b8-dcbf-58c66276e950",
        "colab": {
          "base_uri": "https://localhost:8080/",
          "height": 34
        }
      },
      "source": [
        "history=model.fit(celsius_q, fahrenheit_a, epochs=500, verbose=False) #verbose=многословный\n",
        "print(\"Finish training model\")\n"
      ],
      "execution_count": 0,
      "outputs": [
        {
          "output_type": "stream",
          "text": [
            "Finish training model\n"
          ],
          "name": "stdout"
        }
      ]
    },
    {
      "cell_type": "markdown",
      "metadata": {
        "id": "YvA6iof-MLMq",
        "colab_type": "text"
      },
      "source": [
        "SOME plots, grafs, statistics, **beauty**"
      ]
    },
    {
      "cell_type": "code",
      "metadata": {
        "id": "fHBqYPeWIVEx",
        "colab_type": "code",
        "outputId": "1e4836e6-b340-4afb-c666-012a6e8a4ed0",
        "colab": {
          "base_uri": "https://localhost:8080/",
          "height": 297
        }
      },
      "source": [
        "import matplotlib.pyplot as plt\n",
        "plt.xlabel('Epoch Number')\n",
        "plt.ylabel('Loss Magnitude')\n",
        "plt.plot(history.history['loss'])"
      ],
      "execution_count": 0,
      "outputs": [
        {
          "output_type": "execute_result",
          "data": {
            "text/plain": [
              "[<matplotlib.lines.Line2D at 0x7fa87ae81470>]"
            ]
          },
          "metadata": {
            "tags": []
          },
          "execution_count": 16
        },
        {
          "output_type": "display_data",
          "data": {
            "image/png": "[encoded data removed]",
            "text/plain": [
              "<Figure size 432x288 with 1 Axes>"
            ]
          },
          "metadata": {
            "tags": []
          }
        }
      ]
    },
    {
      "cell_type": "code",
      "metadata": {
        "id": "hQ0dgLhQIVA9",
        "colab_type": "code",
        "outputId": "00c0f967-1262-4e48-f0c1-6fd5aebbf549",
        "colab": {
          "base_uri": "https://localhost:8080/",
          "height": 34
        }
      },
      "source": [
        "print(model.predict([100.0]))"
      ],
      "execution_count": 0,
      "outputs": [
        {
          "output_type": "stream",
          "text": [
            "[[211.28717]]\n"
          ],
          "name": "stdout"
        }
      ]
    },
    {
      "cell_type": "markdown",
      "metadata": {
        "id": "PFVLZ_nhMycd",
        "colab_type": "text"
      },
      "source": [
        "100X1.8 + 32 = 212 - so our model is better\n"
      ]
    },
    {
      "cell_type": "code",
      "metadata": {
        "id": "22wH_0oiIU_T",
        "colab_type": "code",
        "outputId": "7938032d-d4da-417a-8f56-475c9e7a17ac",
        "colab": {
          "base_uri": "https://localhost:8080/",
          "height": 54
        }
      },
      "source": [
        "print(f'These are the layer variables: {l0.get_weights()}')"
      ],
      "execution_count": 0,
      "outputs": [
        {
          "output_type": "stream",
          "text": [
            "These are the layer variables: [array([[1.8274485]], dtype=float32), array([28.542336], dtype=float32)]\n"
          ],
          "name": "stdout"
        }
      ]
    },
    {
      "cell_type": "code",
      "metadata": {
        "id": "PXaiR4XuIU5f",
        "colab_type": "code",
        "colab": {
          "base_uri": "https://localhost:8080/",
          "height": 34
        },
        "outputId": "dc529e32-7854-4b9c-8020-6591c3067e92"
      },
      "source": [
        "print(model.predict([556.5454]))"
      ],
      "execution_count": 19,
      "outputs": [
        {
          "output_type": "stream",
          "text": [
            "[[1045.6003]]\n"
          ],
          "name": "stdout"
        }
      ]
    },
    {
      "cell_type": "code",
      "metadata": {
        "id": "QkDUDojWIUs2",
        "colab_type": "code",
        "colab": {}
      },
      "source": [
        ""
      ],
      "execution_count": 0,
      "outputs": []
    }
  ]
}